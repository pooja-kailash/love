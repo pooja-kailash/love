{
  "nbformat": 4,
  "nbformat_minor": 0,
  "metadata": {
    "colab": {
      "provenance": []
    },
    "kernelspec": {
      "name": "python3",
      "display_name": "Python 3"
    },
    "language_info": {
      "name": "python"
    }
  },
  "cells": [
    {
      "cell_type": "code",
      "source": [
        "name = \"My kuchupuchu\"\n",
        "print(f\"{name}, I love you so much!\")"
      ],
      "metadata": {
        "colab": {
          "base_uri": "https://localhost:8080/"
        },
        "id": "ZeEZatMoZXQi",
        "outputId": "88ab68fb-cb39-42d3-a1ab-c55ed197bcb2"
      },
      "execution_count": 12,
      "outputs": [
        {
          "output_type": "stream",
          "name": "stdout",
          "text": [
            "My kuchupuchu, I love you so much!\n"
          ]
        }
      ]
    },
    {
      "cell_type": "code",
      "source": [],
      "metadata": {
        "id": "NGpDbyvOZtbt"
      },
      "execution_count": null,
      "outputs": []
    }
  ]
}